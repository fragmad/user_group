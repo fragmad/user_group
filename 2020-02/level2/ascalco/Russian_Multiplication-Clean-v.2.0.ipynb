{
 "cells": [
  {
   "cell_type": "markdown",
   "metadata": {},
   "source": [
    "# Russian Multiplication"
   ]
  },
  {
   "cell_type": "code",
   "execution_count": 91,
   "metadata": {},
   "outputs": [
    {
     "name": "stdout",
     "output_type": "stream",
     "text": [
      "Type first value: 42\n",
      "Type second value: 1337\n",
      "List halved values:  [42, 21, 10, 5, 2, 1]\n",
      "List double values:  [1337, 2674, 5348, 10696, 21392, 42784]\n",
      "Result:  42 x 1337  =  56154\n"
     ]
    }
   ],
   "source": [
    "def main():\n",
    "    # Init main inputs and result\n",
    "    a = int(input(\"Type first value: \"))\n",
    "    b = int(input(\"Type second value: \"))\n",
    "    result = 0\n",
    "    # Init a list that will contain halved values and one for double values\n",
    "    halved_values = []\n",
    "    double_values = []\n",
    "    \n",
    "    # Create a list with halved values\n",
    "    def f_halve(x):\n",
    "        halved_values.append(x) # append the input as first value\n",
    "        while x > 1:\n",
    "            x = int(x / 2) # remove decimals using int()\n",
    "            halved_values.append(x)\n",
    "        print(\"List halved values: \", halved_values)  # check first list is ok\n",
    "   \n",
    "   # Double the second number (b) the same amount that time the first value (i.e. a) was halved\n",
    "    def f_doubling(x):\n",
    "        if len(double_values) != len(halved_values):\n",
    "            double_values.append(x)\n",
    "            x = x * 2\n",
    "            f_doubling(x) # recursion\n",
    "    \n",
    "    # Create a list with halve values (without modifying a)\n",
    "    f_halve(a)\n",
    "        \n",
    "    # Create a list with double values using a recursive function\n",
    "    f_doubling(b) \n",
    "    print(\"List double values: \", double_values) # check second list is ok\n",
    " \n",
    "    # Return a dictionary with couples like \"halved:double\" values\n",
    "    russian_molt = dict(zip(halved_values, double_values))\n",
    "    \n",
    "    # Sum double values associated with odd halved values\n",
    "    for value_a in russian_molt.keys():\n",
    "        if value_a % 2 != 0:\n",
    "            result = result + (russian_molt[value_a])\n",
    "    \n",
    "    print(\"Result: \", a, \"x\", b, \" = \", result)\n",
    "            \n",
    "########\n",
    "# MAIN #\n",
    "########\n",
    "\n",
    "if __name__ == '__main__':\n",
    "    main()"
   ]
  },
  {
   "cell_type": "code",
   "execution_count": null,
   "metadata": {},
   "outputs": [],
   "source": []
  }
 ],
 "metadata": {
  "kernelspec": {
   "display_name": "Python 3",
   "language": "python",
   "name": "python3"
  },
  "language_info": {
   "codemirror_mode": {
    "name": "ipython",
    "version": 3
   },
   "file_extension": ".py",
   "mimetype": "text/x-python",
   "name": "python",
   "nbconvert_exporter": "python",
   "pygments_lexer": "ipython3",
   "version": "3.7.3"
  }
 },
 "nbformat": 4,
 "nbformat_minor": 2
}
