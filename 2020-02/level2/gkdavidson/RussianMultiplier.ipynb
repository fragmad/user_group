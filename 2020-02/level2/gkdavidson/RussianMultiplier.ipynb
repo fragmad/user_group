{
 "cells": [
  {
   "cell_type": "markdown",
   "metadata": {},
   "source": [
    "A simple function which successively halves one input (a) while doubling the other (b).\n",
    "While we loop down to the value 1 for a the total we want is incremented by adding the associated value of b if and only if the a-value is odd (ie mod 2 = 1)\n",
    "The function returns the final sum"
   ]
  },
  {
   "cell_type": "code",
   "execution_count": 22,
   "metadata": {},
   "outputs": [],
   "source": [
    "#Russian Multiplication\n",
    "def russianMult(a,b):\n",
    "    s=0\n",
    "    if a%2==1: s=b\n",
    "    while a > 1:\n",
    "        a=int(a/2)\n",
    "        b=b*2\n",
    "        if a%2==1: s+=b\n",
    "    return s\n"
   ]
  },
  {
   "cell_type": "code",
   "execution_count": 23,
   "metadata": {},
   "outputs": [
    {
     "data": {
      "text/plain": [
       "56154"
      ]
     },
     "execution_count": 23,
     "metadata": {},
     "output_type": "execute_result"
    }
   ],
   "source": [
    "a=42\n",
    "b=1337\n",
    "\n",
    "russianMult(a,b)\n"
   ]
  }
 ],
 "metadata": {
  "kernelspec": {
   "display_name": "Python (scraper)",
   "language": "python",
   "name": "scraper"
  },
  "language_info": {
   "codemirror_mode": {
    "name": "ipython",
    "version": 3
   },
   "file_extension": ".py",
   "mimetype": "text/x-python",
   "name": "python",
   "nbconvert_exporter": "python",
   "pygments_lexer": "ipython3",
   "version": "3.7.5"
  }
 },
 "nbformat": 4,
 "nbformat_minor": 2
}
