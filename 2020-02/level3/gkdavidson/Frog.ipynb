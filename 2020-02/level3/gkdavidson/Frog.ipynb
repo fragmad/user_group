{
 "cells": [
  {
   "cell_type": "code",
   "execution_count": null,
   "metadata": {},
   "outputs": [],
   "source": [
    "#environment setup\n",
    "import numpy as np\n",
    "import os\n",
    "from random import randint\n",
    "os.getcwd()"
   ]
  },
  {
   "cell_type": "markdown",
   "metadata": {},
   "source": [
    "I have created two very short functions. The first - frogJump - jumps the requisite number of lily pads (n)\n",
    "If it falls short it calls itself with the new target which is the previous target minus the pad reached. \n",
    "Otherwise it returns the number of attempts it took (i). \n",
    "\n",
    "Note that i must be set to 0 in the first call and is incremented by one in each subsequent call until the target is reached.\n",
    "\n",
    "Note that n is the number of the last lilypad, assuming the frog starts on pad 0\n",
    "\n",
    "The second function - simulateFrog - uses frogJump to calculate the average number of jumps to reach the target n. The average is calculated over s simulations\n"
   ]
  },
  {
   "cell_type": "code",
   "execution_count": 2,
   "metadata": {},
   "outputs": [],
   "source": [
    "def frogJump(n,i):\n",
    "    r=randint(1,n)\n",
    "    i+=1\n",
    "    if r==n:\n",
    "        return i\n",
    "    else:\n",
    "        return frogJump(n-r,i)\n",
    "\n",
    "#This function returns the average number of jumps to reach target n in s attempts\n",
    "def simulateFrog(n,s):\n",
    "    a=0\n",
    "    for i in range(s):\n",
    "        a=a+frogJump(n,0)\n",
    "    return a/s\n",
    "        "
   ]
  },
  {
   "cell_type": "markdown",
   "metadata": {},
   "source": [
    "The following code creates a list of results for average jumps to lily pads from 1 to r\n",
    "In each case we are averaging over s simulations"
   ]
  },
  {
   "cell_type": "code",
   "execution_count": 5,
   "metadata": {},
   "outputs": [
    {
     "data": {
      "text/plain": [
       "[[0, 0],\n",
       " [1, 1.0],\n",
       " [2, 1.500405],\n",
       " [3, 1.832162],\n",
       " [4, 2.08166],\n",
       " [5, 2.283125],\n",
       " [6, 2.449773],\n",
       " [7, 2.59093],\n",
       " [8, 2.71647],\n",
       " [9, 2.828796]]"
      ]
     },
     "execution_count": 5,
     "metadata": {},
     "output_type": "execute_result"
    }
   ],
   "source": [
    "r=10\n",
    "s=1000000\n",
    "tbFrog = [[0,0]]*r\n",
    "for pads in range(1,r):   \n",
    "    tbFrog[pads]=[pads,simulateFrog(pads,s)]\n",
    "tbFrog"
   ]
  },
  {
   "cell_type": "markdown",
   "metadata": {},
   "source": [
    "It looks like this is the sum to n of the harmonic series\n",
    "The harmonic series is 1 + 1/2 + 1/3 + 1/4 .... 1/n\n",
    "We can check this for, say, n=9 (see below) and the result compares favourably with our first simulation"
   ]
  },
  {
   "cell_type": "code",
   "execution_count": 6,
   "metadata": {},
   "outputs": [
    {
     "name": "stdout",
     "output_type": "stream",
     "text": [
      "2.8289682539682537\n"
     ]
    }
   ],
   "source": [
    "n=9\n",
    "s=0\n",
    "for i in range(n):\n",
    "    s=s+1/(i+1)\n",
    "print (s)\n",
    "    "
   ]
  },
  {
   "cell_type": "markdown",
   "metadata": {},
   "source": [
    "Now we perform the same for 1 million pads.  Below, the sum of the harmonic series is compared with the simulateFrog function (which is quick).  Finally a formula for the sum of the harmonic series is used to find another answer for the sum to 1/1million.  As you can see they are comparable."
   ]
  },
  {
   "cell_type": "code",
   "execution_count": 7,
   "metadata": {},
   "outputs": [
    {
     "name": "stdout",
     "output_type": "stream",
     "text": [
      "14.392726722864989\n"
     ]
    }
   ],
   "source": [
    "n=1000000\n",
    "s=0\n",
    "for i in range(n):\n",
    "    s=s+1/(i+1)\n",
    "print (s)"
   ]
  },
  {
   "cell_type": "code",
   "execution_count": 94,
   "metadata": {
    "scrolled": true
   },
   "outputs": [
    {
     "data": {
      "text/plain": [
       "14.390071"
      ]
     },
     "execution_count": 94,
     "metadata": {},
     "output_type": "execute_result"
    }
   ],
   "source": [
    "simulateFrog(1000000,1000000)"
   ]
  },
  {
   "cell_type": "code",
   "execution_count": 99,
   "metadata": {},
   "outputs": [
    {
     "data": {
      "text/plain": [
       "14.392726306197599"
      ]
     },
     "execution_count": 99,
     "metadata": {},
     "output_type": "execute_result"
    }
   ],
   "source": [
    "#There is no simple sum(n) for the harmonic series.\n",
    "#The following formula is a good estimate.  np.log is the natural log function from numpy\n",
    "n=1000000\n",
    "np.log(n)+0.5772156649+1/(12*n)-1/(112*n*n)"
   ]
  }
 ],
 "metadata": {
  "kernelspec": {
   "display_name": "Python (scraper)",
   "language": "python",
   "name": "scraper"
  },
  "language_info": {
   "codemirror_mode": {
    "name": "ipython",
    "version": 3
   },
   "file_extension": ".py",
   "mimetype": "text/x-python",
   "name": "python",
   "nbconvert_exporter": "python",
   "pygments_lexer": "ipython3",
   "version": "3.7.5"
  }
 },
 "nbformat": 4,
 "nbformat_minor": 2
}
