{
 "cells": [
  {
   "cell_type": "code",
   "execution_count": 4,
   "metadata": {},
   "outputs": [],
   "source": [
    "import random"
   ]
  },
  {
   "cell_type": "code",
   "execution_count": 5,
   "metadata": {},
   "outputs": [],
   "source": [
    "def simulate_frog(n, simulations):\n",
    "    \n",
    "    all_jumps = 0\n",
    "    \n",
    "    for itteration in range(simulations):\n",
    "    \n",
    "        current = 0\n",
    "        jumps = 0\n",
    "\n",
    "        while current != n:\n",
    "            current = random.randint(current + 1, n)\n",
    "            jumps += 1\n",
    "        \n",
    "        all_jumps += jumps\n",
    "\n",
    "    return all_jumps / simulations"
   ]
  },
  {
   "cell_type": "code",
   "execution_count": 6,
   "metadata": {},
   "outputs": [
    {
     "name": "stdout",
     "output_type": "stream",
     "text": [
      "0\t0.0\n",
      "1\t1.0\n",
      "2\t1.499977\n",
      "3\t1.832899\n",
      "4\t2.082858\n",
      "5\t2.282809\n",
      "6\t2.450369\n",
      "7\t2.59404\n",
      "8\t2.716647\n",
      "9\t2.831275\n",
      "10\t2.92754\n"
     ]
    }
   ],
   "source": [
    "sample_size = 1000000\n",
    "max_n = 10\n",
    "\n",
    "for n in range(0, max_n+1):\n",
    "\n",
    "    print(n, simulate_frog(n, simulations=sample_size), sep='\\t')"
   ]
  },
  {
   "cell_type": "code",
   "execution_count": 7,
   "metadata": {},
   "outputs": [
    {
     "name": "stdout",
     "output_type": "stream",
     "text": [
      "1 1.0\n",
      "2 1.5\n",
      "3 1.8333333333333333\n",
      "4 2.083333333333333\n",
      "5 2.283333333333333\n",
      "6 2.4499999999999997\n",
      "7 2.5928571428571425\n",
      "8 2.7178571428571425\n",
      "9 2.8289682539682537\n",
      "10 2.9289682539682538\n"
     ]
    }
   ],
   "source": [
    "max_n = 10\n",
    "\n",
    "for n in range(1, max_n+1):\n",
    "    print(n, sum(map(lambda x: 1/x, range(1, n+1))))"
   ]
  },
  {
   "cell_type": "code",
   "execution_count": 9,
   "metadata": {},
   "outputs": [
    {
     "name": "stdout",
     "output_type": "stream",
     "text": [
      "1000000 14.392726722864989\n"
     ]
    }
   ],
   "source": [
    "n = 1_000_000\n",
    "\n",
    "print(n, sum(map(lambda x: 1/x, range(1, n+1))))"
   ]
  },
  {
   "cell_type": "code",
   "execution_count": null,
   "metadata": {},
   "outputs": [],
   "source": []
  }
 ],
 "metadata": {
  "kernelspec": {
   "display_name": "Python 3",
   "language": "python",
   "name": "python3"
  },
  "language_info": {
   "codemirror_mode": {
    "name": "ipython",
    "version": 3
   },
   "file_extension": ".py",
   "mimetype": "text/x-python",
   "name": "python",
   "nbconvert_exporter": "python",
   "pygments_lexer": "ipython3",
   "version": "3.7.5"
  }
 },
 "nbformat": 4,
 "nbformat_minor": 4
}
