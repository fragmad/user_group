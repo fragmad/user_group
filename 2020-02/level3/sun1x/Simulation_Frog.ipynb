{
 "cells": [
  {
   "cell_type": "code",
   "execution_count": 1,
   "metadata": {},
   "outputs": [],
   "source": [
    "import random # you don't need this if you have imported before\n",
    "import numpy as np\n",
    "import matplotlib.pyplot as plt"
   ]
  },
  {
   "cell_type": "code",
   "execution_count": 2,
   "metadata": {},
   "outputs": [
    {
     "name": "stdout",
     "output_type": "stream",
     "text": [
      "0\n",
      "0\n",
      "1\n",
      "1\n",
      "4\n",
      "3\n",
      "2\n",
      "2\n"
     ]
    }
   ],
   "source": [
    "def pad(n):\n",
    "    pad = random.randint(0,n)\n",
    "    print(pad)\n",
    "                  \n",
    "    return\n",
    "\n",
    "# Call the function\n",
    "pad(0) \n",
    "pad(1) \n",
    "pad(1) \n",
    "pad(1) \n",
    "pad(4) \n",
    "pad(4) \n",
    "pad(4) \n",
    "pad(4) "
   ]
  },
  {
   "cell_type": "code",
   "execution_count": 3,
   "metadata": {},
   "outputs": [
    {
     "data": {
      "text/plain": [
       "1"
      ]
     },
     "execution_count": 3,
     "metadata": {},
     "output_type": "execute_result"
    }
   ],
   "source": [
    "def simulation_frog_once(npads):\n",
    "    \n",
    "    hops=0\n",
    "    current=0\n",
    "      \n",
    "    while current!=npads:\n",
    "        #print(current)\n",
    "        current = random.randint(current+1,npads)\n",
    "        hops+=1\n",
    "        \n",
    "    #print(hops, \"       -------- Home!\")\n",
    "    #print(current)  \n",
    "    #print()\n",
    "    return hops\n",
    "\n",
    "\n",
    "simulation_frog_once(4) \n",
    "simulation_frog_once(4) \n",
    "simulation_frog_once(4) \n",
    "simulation_frog_once(4) \n",
    "\n"
   ]
  },
  {
   "cell_type": "code",
   "execution_count": 4,
   "metadata": {},
   "outputs": [
    {
     "data": {
      "text/plain": [
       "2.082219"
      ]
     },
     "execution_count": 4,
     "metadata": {},
     "output_type": "execute_result"
    }
   ],
   "source": [
    "def simulation_frog(npads, nsims):\n",
    "    \n",
    "    x=0\n",
    "    arr = []\n",
    "    \n",
    "    \n",
    "    while x < nsims:\n",
    "        #print(x)\n",
    "        hops = simulation_frog_once(npads)\n",
    "        #print(\"Hops\", hops)\n",
    "        x+=1\n",
    "        arr.append([hops]) \n",
    "        \n",
    "    \n",
    "    average = np.mean(arr)\n",
    "    \n",
    "    #print(\"Average of hops when n =\", npads, \" is \", average)\n",
    "  \n",
    "    \n",
    "    return average\n",
    "\n",
    "\n",
    "simulation_frog(4, 1000000) "
   ]
  },
  {
   "cell_type": "code",
   "execution_count": 21,
   "metadata": {},
   "outputs": [
    {
     "name": "stdout",
     "output_type": "stream",
     "text": [
      "0 0.0 0\n",
      "1 1.0 1.0\n",
      "2 1.499355 1.5\n",
      "3 1.833772 1.8333333333333333\n",
      "4 2.083653 2.083333333333333\n",
      "5 2.282854 2.283333333333333\n",
      "6 2.451355 2.4499999999999997\n",
      "7 2.593864 2.5928571428571425\n",
      "8 2.718688 2.7178571428571425\n",
      "9 2.829423 2.8289682539682537\n",
      "10 2.925647 2.9289682539682538\n",
      "11 3.019729 3.0198773448773446\n",
      "12 3.103782 3.103210678210678\n",
      "13 3.17848 3.180133755133755\n",
      "14 3.250073 3.251562326562327\n",
      "15 3.315313 3.3182289932289937\n",
      "16 3.381804 3.3807289932289937\n",
      "17 3.438094 3.439552522640758\n",
      "18 3.49592 3.4951080781963135\n",
      "19 3.545845 3.547739657143682\n"
     ]
    }
   ],
   "source": [
    "arr_xs = []\n",
    "arr_ys = []\n",
    "arr_yp = []\n",
    "arr_yc = [] #test\n",
    "\n",
    "s=0\n",
    "    \n",
    "for n in range(0,20):\n",
    "    arr_xs.append(n)\n",
    "    s = simulation_frog(n, 1000000)\n",
    "    arr_ys.append(s)\n",
    "    p = predicted_value(n)\n",
    "    arr_yp.append(p)\n",
    "    arr_yc.append(n/2)\n",
    "    print(n, s, p)\n",
    "   \n",
    "\n"
   ]
  },
  {
   "cell_type": "code",
   "execution_count": 22,
   "metadata": {},
   "outputs": [
    {
     "data": {
      "text/plain": [
       "<matplotlib.legend.Legend at 0x2256c59b710>"
      ]
     },
     "execution_count": 22,
     "metadata": {},
     "output_type": "execute_result"
    },
    {
     "data": {
      "image/png": "[encoded data removed]",
      "text/plain": [
       "<Figure size 432x288 with 1 Axes>"
      ]
     },
     "metadata": {
      "needs_background": "light"
     },
     "output_type": "display_data"
    }
   ],
   "source": [
    "plt.plot(arr_xs, arr_ys, label = \"Simulation\") \n",
    "plt.plot(arr_xs, arr_yp, label = \"Prediction\")  \n",
    "plt.plot(arr_xs, arr_yc, label = \"Comparison\") \n",
    "plt.legend()  "
   ]
  },
  {
   "cell_type": "code",
   "execution_count": 7,
   "metadata": {},
   "outputs": [
    {
     "name": "stdout",
     "output_type": "stream",
     "text": [
      "0\t0.0\t0.0\n",
      "1\t1.0\t1.0\n",
      "2\t1.5\t0.5\n",
      "3\t1.83\t0.33\n",
      "4\t2.08\t0.25\n",
      "5\t2.28\t0.2\n",
      "6\t2.45\t0.17\n",
      "7\t2.59\t0.14\n",
      "8\t2.72\t0.12\n",
      "9\t2.83\t0.11\n",
      "10\t2.93\t0.1\n",
      "11\t3.02\t0.09\n",
      "12\t3.1\t0.08\n",
      "13\t3.18\t0.07\n",
      "14\t3.25\t0.07\n",
      "15\t3.32\t0.07\n",
      "16\t3.38\t0.06\n",
      "17\t3.44\t0.06\n",
      "18\t3.5\t0.06\n",
      "19\t3.55\t0.05\n"
     ]
    }
   ],
   "source": [
    "current, previous, fraction = 0, 0, 0\n",
    "\n",
    "for npads in range(0,20):\n",
    "    previous = current\n",
    "    current = simulation_frog(npads, 1000000)\n",
    "    difference = current - previous\n",
    "    if (npads!=0):\n",
    "        fraction = 1/round(difference, 2)\n",
    "    print(npads, round(current,2), round(difference,2), sep=\"\\t\")\n",
    "    \n",
    "\n",
    "     "
   ]
  },
  {
   "cell_type": "code",
   "execution_count": 16,
   "metadata": {},
   "outputs": [
    {
     "data": {
      "text/plain": [
       "2.083333333333333"
      ]
     },
     "execution_count": 16,
     "metadata": {},
     "output_type": "execute_result"
    }
   ],
   "source": [
    "def predicted_value(n):\n",
    "    \n",
    "    s=0\n",
    "    for i in range(1, n+1):\n",
    "        s = s+1/i\n",
    "\n",
    "    return s\n",
    "\n",
    "predicted_value(4)"
   ]
  },
  {
   "cell_type": "code",
   "execution_count": 53,
   "metadata": {},
   "outputs": [
    {
     "data": {
      "text/plain": [
       "14.395582"
      ]
     },
     "execution_count": 53,
     "metadata": {},
     "output_type": "execute_result"
    }
   ],
   "source": [
    "simulation_frog(n, 1000000)"
   ]
  },
  {
   "cell_type": "code",
   "execution_count": 7,
   "metadata": {},
   "outputs": [
    {
     "data": {
      "text/plain": [
       "14.392726722864989"
      ]
     },
     "execution_count": 7,
     "metadata": {},
     "output_type": "execute_result"
    }
   ],
   "source": [
    "predicted_value(1000000)"
   ]
  },
  {
   "cell_type": "code",
   "execution_count": null,
   "metadata": {},
   "outputs": [],
   "source": []
  }
 ],
 "metadata": {
  "kernelspec": {
   "display_name": "Python 3",
   "language": "python",
   "name": "python3"
  },
  "language_info": {
   "codemirror_mode": {
    "name": "ipython",
    "version": 3
   },
   "file_extension": ".py",
   "mimetype": "text/x-python",
   "name": "python",
   "nbconvert_exporter": "python",
   "pygments_lexer": "ipython3",
   "version": "3.6.4"
  }
 },
 "nbformat": 4,
 "nbformat_minor": 2
}
