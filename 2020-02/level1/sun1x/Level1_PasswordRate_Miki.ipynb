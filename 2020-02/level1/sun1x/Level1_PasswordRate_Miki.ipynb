{
 "cells": [
  {
   "cell_type": "code",
   "execution_count": 23,
   "metadata": {},
   "outputs": [],
   "source": [
    "def rate_password(username, password):\n",
    "    \n",
    "    score = len(password)\n",
    "    print(\"Your password has \", score, \"letters.\")\n",
    "    \n",
    "    upper =0\n",
    "    lower =0\n",
    "    digit =0\n",
    "    spaces =0\n",
    "    others = 0\n",
    "    \n",
    "    upper = sum(letter.isupper() for letter in password)\n",
    "    lower = sum(letter.islower() for letter in password)\n",
    "    digit = sum(letter.isdigit() for letter in password)\n",
    "    spaces = sum(letter.isspace() for letter in password)\n",
    "    others = len(password) - digit - upper - lower - spaces\n",
    "   \n",
    "    if lower > 0:\n",
    "        score += 2\n",
    "        print(lower, \" Lower, +2\")\n",
    "   \n",
    "    if upper > 0:\n",
    "        score += 3\n",
    "        print(upper, \" Upper, +3\") \n",
    "   \n",
    "    if digit > 0:\n",
    "        score += 5\n",
    "        print(digit, \" Digits, +5\")\n",
    "        \n",
    "    if spaces > 0:\n",
    "        score += 5\n",
    "        print(spaces, \" Spaces, +5\")\n",
    "        \n",
    "    if others > 0:\n",
    "        score += 10\n",
    "        print(others, \" Others, +10\")\n",
    "        \n",
    "    if username.lower() in password.lower():\n",
    "        score -= 15\n",
    "        print(\"Username appears, -15\")\n",
    "        \n",
    "    if score < 0:\n",
    "        score = 0\n",
    "        print(\"Score can't be negtive, return 0\")\n",
    "        \n",
    "    return score\n",
    "\n"
   ]
  },
  {
   "cell_type": "code",
   "execution_count": 2,
   "metadata": {},
   "outputs": [
    {
     "name": "stdout",
     "output_type": "stream",
     "text": [
      "Please entre your name: miki\n",
      "Please entre your password:Helen 23%\n",
      "Your password has  9 letters.\n",
      "Lower,  4 , +3\n",
      "Upper,  1 , +2\n",
      "Digit,  2 , +5\n",
      "Space,  2 , +5\n",
      "Others,  2 , +10\n"
     ]
    },
    {
     "data": {
      "text/plain": [
       "29"
      ]
     },
     "execution_count": 2,
     "metadata": {},
     "output_type": "execute_result"
    }
   ],
   "source": [
    "name = input(\"Please entre your name: \")\n",
    "password = input(\"Please entre your password:\")\n",
    "rate_password(name, password)\n"
   ]
  },
  {
   "cell_type": "code",
   "execution_count": 24,
   "metadata": {},
   "outputs": [
    {
     "name": "stdout",
     "output_type": "stream",
     "text": [
      "Your password has  9 letters.\n",
      "9  Others, +10\n"
     ]
    },
    {
     "data": {
      "text/plain": [
       "19"
      ]
     },
     "execution_count": 24,
     "metadata": {},
     "output_type": "execute_result"
    }
   ],
   "source": [
    "rate_password('bob', 'おはようございます')"
   ]
  },
  {
   "cell_type": "code",
   "execution_count": 25,
   "metadata": {},
   "outputs": [
    {
     "name": "stdout",
     "output_type": "stream",
     "text": [
      "Your password has  9 letters.\n",
      "5  Lower, +2\n",
      "1  Upper, +3\n",
      "2  Spaces, +5\n",
      "1  Others, +10\n",
      "Username appears, -15\n"
     ]
    },
    {
     "data": {
      "text/plain": [
       "14"
      ]
     },
     "execution_count": 25,
     "metadata": {},
     "output_type": "execute_result"
    }
   ],
   "source": [
    "rate_password('bob', 'Bob cat 猫')"
   ]
  },
  {
   "cell_type": "code",
   "execution_count": 18,
   "metadata": {},
   "outputs": [
    {
     "name": "stdout",
     "output_type": "stream",
     "text": [
      "Your password has  3 letters.\n",
      "Lower,  3 , +2\n",
      "Username appears, -15\n"
     ]
    },
    {
     "data": {
      "text/plain": [
       "0"
      ]
     },
     "execution_count": 18,
     "metadata": {},
     "output_type": "execute_result"
    }
   ],
   "source": [
    "rate_password('bob', 'bob')"
   ]
  },
  {
   "cell_type": "code",
   "execution_count": 27,
   "metadata": {},
   "outputs": [
    {
     "name": "stdout",
     "output_type": "stream",
     "text": [
      "Your password has  12 letters.\n",
      "12  Lower, +2\n",
      "Username appears, -15\n",
      "Score can't be negtive, return 0\n"
     ]
    },
    {
     "data": {
      "text/plain": [
       "0"
      ]
     },
     "execution_count": 27,
     "metadata": {},
     "output_type": "execute_result"
    }
   ],
   "source": [
    "rate_password('bob', 'bobbobbobbob')\n"
   ]
  },
  {
   "cell_type": "code",
   "execution_count": 28,
   "metadata": {},
   "outputs": [
    {
     "name": "stdout",
     "output_type": "stream",
     "text": [
      "Your password has  15 letters.\n",
      "15  Lower, +2\n",
      "Username appears, -15\n"
     ]
    },
    {
     "data": {
      "text/plain": [
       "2"
      ]
     },
     "execution_count": 28,
     "metadata": {},
     "output_type": "execute_result"
    }
   ],
   "source": [
    "rate_password('bob', 'bobbobbobbobbob')"
   ]
  },
  {
   "cell_type": "code",
   "execution_count": null,
   "metadata": {},
   "outputs": [],
   "source": []
  }
 ],
 "metadata": {
  "kernelspec": {
   "display_name": "Python 3",
   "language": "python",
   "name": "python3"
  },
  "language_info": {
   "codemirror_mode": {
    "name": "ipython",
    "version": 3
   },
   "file_extension": ".py",
   "mimetype": "text/x-python",
   "name": "python",
   "nbconvert_exporter": "python",
   "pygments_lexer": "ipython3",
   "version": "3.6.4"
  }
 },
 "nbformat": 4,
 "nbformat_minor": 2
}
