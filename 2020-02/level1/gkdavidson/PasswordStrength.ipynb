{
 "cells": [
  {
   "cell_type": "markdown",
   "metadata": {},
   "source": [
    "Each criterion in the specification is dealt with in turn.\n",
    "First the score is set to the password length.\n",
    "Second the content of the password is checked for lower, upper, numeric, space and 'other' characters\n",
    "The score is incremented with the associated value for each of the type of character\n",
    "Finally the presence of the userName in the passWord is checked and the score adjusted accordingly, making sure it is never less than zero."
   ]
  },
  {
   "cell_type": "code",
   "execution_count": 3,
   "metadata": {},
   "outputs": [],
   "source": [
    "#Password strength\n",
    "def ratePassword(userName,passWord):\n",
    "    score=len(passWord)\n",
    "    lower=0\n",
    "    upper=0\n",
    "    num=0\n",
    "    space=0\n",
    "    other=0\n",
    "    for ch in passWord:\n",
    "        if ch.islower(): lower=2\n",
    "        elif ch.isupper(): upper=3\n",
    "        elif ch.isnumeric():num=5\n",
    "        elif ch==' ':space=5\n",
    "        else: other=10\n",
    "    score=score+upper+lower+num+space+other\n",
    "    if userName.lower() in passWord.lower(): score=max(score-15,0)\n",
    "    return score\n"
   ]
  },
  {
   "cell_type": "code",
   "execution_count": 10,
   "metadata": {},
   "outputs": [
    {
     "data": {
      "text/plain": [
       "14"
      ]
     },
     "execution_count": 10,
     "metadata": {},
     "output_type": "execute_result"
    }
   ],
   "source": [
    "ratePassword('bob','BoB cat £')"
   ]
  },
  {
   "cell_type": "code",
   "execution_count": 11,
   "metadata": {},
   "outputs": [
    {
     "data": {
      "text/plain": [
       "0"
      ]
     },
     "execution_count": 11,
     "metadata": {},
     "output_type": "execute_result"
    }
   ],
   "source": [
    "ratePassword('bob','bobbobbobbob')"
   ]
  },
  {
   "cell_type": "code",
   "execution_count": 12,
   "metadata": {},
   "outputs": [
    {
     "data": {
      "text/plain": [
       "2"
      ]
     },
     "execution_count": 12,
     "metadata": {},
     "output_type": "execute_result"
    }
   ],
   "source": [
    "ratePassword('bob','bobbobbobbobbob')"
   ]
  }
 ],
 "metadata": {
  "kernelspec": {
   "display_name": "Python (scraper)",
   "language": "python",
   "name": "scraper"
  },
  "language_info": {
   "codemirror_mode": {
    "name": "ipython",
    "version": 3
   },
   "file_extension": ".py",
   "mimetype": "text/x-python",
   "name": "python",
   "nbconvert_exporter": "python",
   "pygments_lexer": "ipython3",
   "version": "3.7.5"
  }
 },
 "nbformat": 4,
 "nbformat_minor": 2
}
